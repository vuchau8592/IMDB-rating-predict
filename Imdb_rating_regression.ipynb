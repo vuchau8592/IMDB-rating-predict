{
 "cells": [
  {
   "cell_type": "markdown",
   "metadata": {},
   "source": [
    "This project is an extension of previous IMDB classification. We will try to predict the IMDB score of movies instead of only classify its class. In this project, the same dataset is used before in IDMB classification project. If you want to have detail and descriptions how the dataset is processed please take a look at IMDB_Classification."
   ]
  },
  {
   "cell_type": "code",
   "execution_count": 1,
   "metadata": {},
   "outputs": [
    {
     "data": {
      "text/html": [
       "<div>\n",
       "<style scoped>\n",
       "    .dataframe tbody tr th:only-of-type {\n",
       "        vertical-align: middle;\n",
       "    }\n",
       "\n",
       "    .dataframe tbody tr th {\n",
       "        vertical-align: top;\n",
       "    }\n",
       "\n",
       "    .dataframe thead th {\n",
       "        text-align: right;\n",
       "    }\n",
       "</style>\n",
       "<table border=\"1\" class=\"dataframe\">\n",
       "  <thead>\n",
       "    <tr style=\"text-align: right;\">\n",
       "      <th></th>\n",
       "      <th>title_year</th>\n",
       "      <th>country</th>\n",
       "      <th>duration</th>\n",
       "      <th>budget</th>\n",
       "      <th>gross</th>\n",
       "      <th>review_ratio</th>\n",
       "      <th>num_voted_users</th>\n",
       "      <th>facenumber_in_poster</th>\n",
       "      <th>movie_facebook_likes</th>\n",
       "      <th>director_facebook_likes</th>\n",
       "      <th>actor_1_facebook_likes</th>\n",
       "      <th>other_actor_facebook_likes</th>\n",
       "      <th>imdb_score</th>\n",
       "    </tr>\n",
       "  </thead>\n",
       "  <tbody>\n",
       "    <tr>\n",
       "      <th>0</th>\n",
       "      <td>2009.0</td>\n",
       "      <td>1</td>\n",
       "      <td>178.0</td>\n",
       "      <td>237000000.0</td>\n",
       "      <td>760505847.0</td>\n",
       "      <td>0.236739</td>\n",
       "      <td>886204</td>\n",
       "      <td>0.0</td>\n",
       "      <td>33000.000000</td>\n",
       "      <td>793.408565</td>\n",
       "      <td>1000.000000</td>\n",
       "      <td>1791.000000</td>\n",
       "      <td>7.9</td>\n",
       "    </tr>\n",
       "    <tr>\n",
       "      <th>1</th>\n",
       "      <td>2007.0</td>\n",
       "      <td>1</td>\n",
       "      <td>169.0</td>\n",
       "      <td>300000000.0</td>\n",
       "      <td>309404152.0</td>\n",
       "      <td>0.243942</td>\n",
       "      <td>471220</td>\n",
       "      <td>0.0</td>\n",
       "      <td>9195.043615</td>\n",
       "      <td>563.000000</td>\n",
       "      <td>40000.000000</td>\n",
       "      <td>6000.000000</td>\n",
       "      <td>7.1</td>\n",
       "    </tr>\n",
       "    <tr>\n",
       "      <th>2</th>\n",
       "      <td>2015.0</td>\n",
       "      <td>2</td>\n",
       "      <td>148.0</td>\n",
       "      <td>245000000.0</td>\n",
       "      <td>200074175.0</td>\n",
       "      <td>0.605634</td>\n",
       "      <td>275868</td>\n",
       "      <td>1.0</td>\n",
       "      <td>85000.000000</td>\n",
       "      <td>793.408565</td>\n",
       "      <td>11000.000000</td>\n",
       "      <td>554.000000</td>\n",
       "      <td>6.8</td>\n",
       "    </tr>\n",
       "    <tr>\n",
       "      <th>3</th>\n",
       "      <td>2012.0</td>\n",
       "      <td>1</td>\n",
       "      <td>164.0</td>\n",
       "      <td>250000000.0</td>\n",
       "      <td>448130642.0</td>\n",
       "      <td>0.301000</td>\n",
       "      <td>1144337</td>\n",
       "      <td>0.0</td>\n",
       "      <td>164000.000000</td>\n",
       "      <td>22000.000000</td>\n",
       "      <td>27000.000000</td>\n",
       "      <td>46000.000000</td>\n",
       "      <td>8.5</td>\n",
       "    </tr>\n",
       "    <tr>\n",
       "      <th>4</th>\n",
       "      <td>2012.0</td>\n",
       "      <td>1</td>\n",
       "      <td>132.0</td>\n",
       "      <td>263700000.0</td>\n",
       "      <td>73058679.0</td>\n",
       "      <td>0.626016</td>\n",
       "      <td>212204</td>\n",
       "      <td>1.0</td>\n",
       "      <td>24000.000000</td>\n",
       "      <td>475.000000</td>\n",
       "      <td>640.000000</td>\n",
       "      <td>1162.000000</td>\n",
       "      <td>6.6</td>\n",
       "    </tr>\n",
       "    <tr>\n",
       "      <th>...</th>\n",
       "      <td>...</td>\n",
       "      <td>...</td>\n",
       "      <td>...</td>\n",
       "      <td>...</td>\n",
       "      <td>...</td>\n",
       "      <td>...</td>\n",
       "      <td>...</td>\n",
       "      <td>...</td>\n",
       "      <td>...</td>\n",
       "      <td>...</td>\n",
       "      <td>...</td>\n",
       "      <td>...</td>\n",
       "      <td>...</td>\n",
       "    </tr>\n",
       "    <tr>\n",
       "      <th>3801</th>\n",
       "      <td>2004.0</td>\n",
       "      <td>1</td>\n",
       "      <td>77.0</td>\n",
       "      <td>7000.0</td>\n",
       "      <td>424760.0</td>\n",
       "      <td>0.385445</td>\n",
       "      <td>72639</td>\n",
       "      <td>0.0</td>\n",
       "      <td>19000.000000</td>\n",
       "      <td>291.000000</td>\n",
       "      <td>291.000000</td>\n",
       "      <td>53.000000</td>\n",
       "      <td>7.0</td>\n",
       "    </tr>\n",
       "    <tr>\n",
       "      <th>3802</th>\n",
       "      <td>2005.0</td>\n",
       "      <td>0</td>\n",
       "      <td>80.0</td>\n",
       "      <td>7000.0</td>\n",
       "      <td>70071.0</td>\n",
       "      <td>1.000000</td>\n",
       "      <td>589</td>\n",
       "      <td>0.0</td>\n",
       "      <td>74.000000</td>\n",
       "      <td>793.408565</td>\n",
       "      <td>7640.344982</td>\n",
       "      <td>2731.580137</td>\n",
       "      <td>6.3</td>\n",
       "    </tr>\n",
       "    <tr>\n",
       "      <th>3803</th>\n",
       "      <td>1992.0</td>\n",
       "      <td>1</td>\n",
       "      <td>81.0</td>\n",
       "      <td>7000.0</td>\n",
       "      <td>2040920.0</td>\n",
       "      <td>0.430769</td>\n",
       "      <td>52055</td>\n",
       "      <td>0.0</td>\n",
       "      <td>9195.043615</td>\n",
       "      <td>793.408565</td>\n",
       "      <td>121.000000</td>\n",
       "      <td>26.000000</td>\n",
       "      <td>6.9</td>\n",
       "    </tr>\n",
       "    <tr>\n",
       "      <th>3804</th>\n",
       "      <td>2011.0</td>\n",
       "      <td>1</td>\n",
       "      <td>95.0</td>\n",
       "      <td>9000.0</td>\n",
       "      <td>4584.0</td>\n",
       "      <td>1.000000</td>\n",
       "      <td>1338</td>\n",
       "      <td>1.0</td>\n",
       "      <td>413.000000</td>\n",
       "      <td>793.408565</td>\n",
       "      <td>296.000000</td>\n",
       "      <td>338.000000</td>\n",
       "      <td>6.4</td>\n",
       "    </tr>\n",
       "    <tr>\n",
       "      <th>3805</th>\n",
       "      <td>2004.0</td>\n",
       "      <td>1</td>\n",
       "      <td>90.0</td>\n",
       "      <td>1100.0</td>\n",
       "      <td>85222.0</td>\n",
       "      <td>0.511905</td>\n",
       "      <td>4285</td>\n",
       "      <td>0.0</td>\n",
       "      <td>456.000000</td>\n",
       "      <td>16.000000</td>\n",
       "      <td>86.000000</td>\n",
       "      <td>39.000000</td>\n",
       "      <td>6.6</td>\n",
       "    </tr>\n",
       "  </tbody>\n",
       "</table>\n",
       "<p>3806 rows × 13 columns</p>\n",
       "</div>"
      ],
      "text/plain": [
       "      title_year  country  duration       budget        gross  review_ratio  \\\n",
       "0         2009.0        1     178.0  237000000.0  760505847.0      0.236739   \n",
       "1         2007.0        1     169.0  300000000.0  309404152.0      0.243942   \n",
       "2         2015.0        2     148.0  245000000.0  200074175.0      0.605634   \n",
       "3         2012.0        1     164.0  250000000.0  448130642.0      0.301000   \n",
       "4         2012.0        1     132.0  263700000.0   73058679.0      0.626016   \n",
       "...          ...      ...       ...          ...          ...           ...   \n",
       "3801      2004.0        1      77.0       7000.0     424760.0      0.385445   \n",
       "3802      2005.0        0      80.0       7000.0      70071.0      1.000000   \n",
       "3803      1992.0        1      81.0       7000.0    2040920.0      0.430769   \n",
       "3804      2011.0        1      95.0       9000.0       4584.0      1.000000   \n",
       "3805      2004.0        1      90.0       1100.0      85222.0      0.511905   \n",
       "\n",
       "      num_voted_users  facenumber_in_poster  movie_facebook_likes  \\\n",
       "0              886204                   0.0          33000.000000   \n",
       "1              471220                   0.0           9195.043615   \n",
       "2              275868                   1.0          85000.000000   \n",
       "3             1144337                   0.0         164000.000000   \n",
       "4              212204                   1.0          24000.000000   \n",
       "...               ...                   ...                   ...   \n",
       "3801            72639                   0.0          19000.000000   \n",
       "3802              589                   0.0             74.000000   \n",
       "3803            52055                   0.0           9195.043615   \n",
       "3804             1338                   1.0            413.000000   \n",
       "3805             4285                   0.0            456.000000   \n",
       "\n",
       "      director_facebook_likes  actor_1_facebook_likes  \\\n",
       "0                  793.408565             1000.000000   \n",
       "1                  563.000000            40000.000000   \n",
       "2                  793.408565            11000.000000   \n",
       "3                22000.000000            27000.000000   \n",
       "4                  475.000000              640.000000   \n",
       "...                       ...                     ...   \n",
       "3801               291.000000              291.000000   \n",
       "3802               793.408565             7640.344982   \n",
       "3803               793.408565              121.000000   \n",
       "3804               793.408565              296.000000   \n",
       "3805                16.000000               86.000000   \n",
       "\n",
       "      other_actor_facebook_likes  imdb_score  \n",
       "0                    1791.000000         7.9  \n",
       "1                    6000.000000         7.1  \n",
       "2                     554.000000         6.8  \n",
       "3                   46000.000000         8.5  \n",
       "4                    1162.000000         6.6  \n",
       "...                          ...         ...  \n",
       "3801                   53.000000         7.0  \n",
       "3802                 2731.580137         6.3  \n",
       "3803                   26.000000         6.9  \n",
       "3804                  338.000000         6.4  \n",
       "3805                   39.000000         6.6  \n",
       "\n",
       "[3806 rows x 13 columns]"
      ]
     },
     "execution_count": 1,
     "metadata": {},
     "output_type": "execute_result"
    }
   ],
   "source": [
    "import pandas as pd\n",
    "import numpy as np\n",
    "from sklearn.preprocessing import MinMaxScaler\n",
    "from sklearn.model_selection import train_test_split\n",
    "import matplotlib.pyplot as plt\n",
    "from collections import Counter\n",
    "import seaborn as sns\n",
    "\n",
    "data = pd.read_csv(\"movie_metadata.csv\")\n",
    "data.drop_duplicates(keep='first', inplace = True)\n",
    "data = data.reset_index(drop=True)\n",
    "data = data.drop([\"genres\",\"aspect_ratio\",\"plot_keywords\",\"color\",\"movie_title\",\"director_name\", \"actor_1_name\",\n",
    "                  \"actor_2_name\", \"actor_3_name\", \"movie_imdb_link\",\"language\"], axis = 1)\n",
    "data = data.dropna(subset = [\"budget\", \"gross\"]).reset_index(drop = True)\n",
    "data = data.dropna(subset = [\"content_rating\"]).reset_index(drop = True)\n",
    "data[\"content_rating\"] = data[\"content_rating\"].replace({\"M\":\"PG\",\"GP\":\"PG\", \n",
    "                                                         \"X\":\"NC-17\",\n",
    "                                                         \"Approved\":\"R\",\"Not Rated\":\"R\",\"Passed\":\"R\", \"Unrated\":\"R\"})\n",
    "data[\"content_rating\"] = data[\"content_rating\"].replace({\"PG-13\": 0,\"PG\": 1,\"G\": 2,\"R\": 3,\"NC-17\": 4})\n",
    "data[\"country\"] = data[\"country\"].replace({\"USA\": 1, \"UK\": 2})\n",
    "data[\"country\"] = data[\"country\"].apply(lambda x: 0 if x != 1 and x != 2 else x)\n",
    "zcount = {}\n",
    "excluded_col = [\"facenumber_in_poster\", \"country\", \"content_rating\"]\n",
    "for column in data.columns:\n",
    "    if column not in excluded_col:\n",
    "        zcount[column] = (Counter(sorted(data[column]))[0])\n",
    "data = data.fillna(0.0)\n",
    "temp = []\n",
    "for key in zcount.keys():\n",
    "    if zcount[key] != 0:\n",
    "        temp.append(key)\n",
    "for col in temp:\n",
    "    data[col] = data[col].replace({0.0:data[col].mean()})\n",
    "data[\"other_actor_facebook_likes\"] = data[\"actor_3_facebook_likes\"] + data[\"actor_2_facebook_likes\"]\n",
    "data[\"review_ratio\"] = data[\"num_critic_for_reviews\"] / data[\"num_user_for_reviews\"]\n",
    "data = data.drop([\"cast_total_facebook_likes\",\"actor_3_facebook_likes\",\n",
    "                  \"actor_2_facebook_likes\",\"num_critic_for_reviews\",\"num_user_for_reviews\"], axis = 1)\n",
    "df = data[['title_year','country','duration', 'budget','gross',\n",
    "          'review_ratio','num_voted_users','facenumber_in_poster','movie_facebook_likes',\n",
    "          'director_facebook_likes','actor_1_facebook_likes','other_actor_facebook_likes',\n",
    "          'imdb_score']]\n",
    "df"
   ]
  },
  {
   "cell_type": "code",
   "execution_count": 2,
   "metadata": {},
   "outputs": [],
   "source": [
    "#Make feature and label data\n",
    "feature = df.iloc[:,:len(df.columns)-1].values\n",
    "idmb = df[\"imdb_score\"].values\n",
    "#Normalizing the feature data\n",
    "scaler = MinMaxScaler()\n",
    "X = scaler.fit_transform(feature)\n",
    "y = idmb\n",
    "#split dataset into training and testing set\n",
    "x_train, x_test, y_train, y_test = train_test_split(X, y, train_size = 0.8, test_size = 0.2, random_state = 5)\n",
    "result = []"
   ]
  },
  {
   "cell_type": "markdown",
   "metadata": {},
   "source": [
    "1. Linear Regression"
   ]
  },
  {
   "cell_type": "code",
   "execution_count": 3,
   "metadata": {},
   "outputs": [
    {
     "name": "stdout",
     "output_type": "stream",
     "text": [
      "Score of model is 0.35397894607142855\n"
     ]
    }
   ],
   "source": [
    "from sklearn.linear_model import LinearRegression\n",
    "\n",
    "regressor = LinearRegression()\n",
    "regressor.fit(x_train, y_train)\n",
    "regressor.score(x_test, y_test)\n",
    "print(f'Score of model is {regressor.score(x_test, y_test)}')\n",
    "result.append(regressor.score(x_test, y_test))"
   ]
  },
  {
   "cell_type": "markdown",
   "metadata": {},
   "source": [
    "2. K-Nearest Neighbors"
   ]
  },
  {
   "cell_type": "code",
   "execution_count": 4,
   "metadata": {},
   "outputs": [
    {
     "data": {
      "image/png": "[encoded data removed]",
      "text/plain": [
       "<Figure size 432x288 with 1 Axes>"
      ]
     },
     "metadata": {
      "needs_background": "light"
     },
     "output_type": "display_data"
    },
    {
     "name": "stdout",
     "output_type": "stream",
     "text": [
      "The best score is 0.4408286557490948 with k = 14\n"
     ]
    }
   ],
   "source": [
    "from sklearn.neighbors import KNeighborsRegressor\n",
    "score = []\n",
    "for k in range(1,300):\n",
    "    classifier = KNeighborsRegressor(n_neighbors = k, weights = \"distance\")\n",
    "    classifier.fit(x_train, y_train)\n",
    "    score.append(classifier.score(x_test, y_test))\n",
    "plt.plot(range(1,300),score)\n",
    "plt.show()\n",
    "print(f'The best score is {max(score)} with k = {score.index(max(score))}')\n",
    "result.append(max(score))"
   ]
  },
  {
   "cell_type": "markdown",
   "metadata": {},
   "source": [
    "3. Support-Vector Regression"
   ]
  },
  {
   "cell_type": "code",
   "execution_count": 5,
   "metadata": {},
   "outputs": [
    {
     "name": "stdout",
     "output_type": "stream",
     "text": [
      "Score of model is 0.4387382794485598\n"
     ]
    }
   ],
   "source": [
    "from sklearn.svm import SVR\n",
    "\n",
    "regressor = SVR()\n",
    "regressor.fit(x_train, y_train)\n",
    "print(f'Score of model is {regressor.score(x_test, y_test)}')\n",
    "result.append(regressor.score(x_test, y_test))"
   ]
  },
  {
   "cell_type": "markdown",
   "metadata": {},
   "source": [
    "4. Decision Tree Regressor"
   ]
  },
  {
   "cell_type": "code",
   "execution_count": 6,
   "metadata": {},
   "outputs": [
    {
     "data": {
      "image/png": "[encoded data removed]",
      "text/plain": [
       "<Figure size 432x288 with 1 Axes>"
      ]
     },
     "metadata": {
      "needs_background": "light"
     },
     "output_type": "display_data"
    },
    {
     "name": "stdout",
     "output_type": "stream",
     "text": [
      "The highest score achieve is 0.4068845207862656 with max_depth of 4\n"
     ]
    }
   ],
   "source": [
    "from sklearn.tree import DecisionTreeRegressor\n",
    "n = 30\n",
    "score = []\n",
    "for i in range(1,n):\n",
    "    regressor = DecisionTreeRegressor(criterion='mae', max_depth = i)\n",
    "    regressor.fit(x_train, y_train)\n",
    "    score.append(regressor.score(x_test, y_test))\n",
    "plt.plot(range(1,n),score)\n",
    "plt.show()\n",
    "print(f'The highest score achieve is {max(score)} with max_depth of {score.index(max(score))}')\n",
    "result.append(max(score))"
   ]
  },
  {
   "cell_type": "markdown",
   "metadata": {},
   "source": [
    "5. Random Forest Regressor"
   ]
  },
  {
   "cell_type": "code",
   "execution_count": 7,
   "metadata": {},
   "outputs": [
    {
     "data": {
      "image/png": "[encoded data removed]",
      "text/plain": [
       "<Figure size 432x288 with 1 Axes>"
      ]
     },
     "metadata": {
      "needs_background": "light"
     },
     "output_type": "display_data"
    },
    {
     "name": "stdout",
     "output_type": "stream",
     "text": [
      "The highest score achieve is 0.5934449955983018 with max_depth of 26\n"
     ]
    }
   ],
   "source": [
    "from sklearn.ensemble import RandomForestRegressor\n",
    "n = 30\n",
    "score = []\n",
    "for i in range(1,n):\n",
    "    regressor = RandomForestRegressor(max_depth = i)    \n",
    "    regressor.fit(x_train, y_train)\n",
    "    score.append(regressor.score(x_test, y_test))\n",
    "    \n",
    "plt.plot(range(1,n),score)\n",
    "plt.show()\n",
    "print(f'The highest score achieve is {max(score)} with max_depth of {score.index(max(score))}')\n",
    "result.append(max(score))"
   ]
  },
  {
   "cell_type": "markdown",
   "metadata": {},
   "source": [
    "Conclusion"
   ]
  },
  {
   "cell_type": "code",
   "execution_count": 8,
   "metadata": {},
   "outputs": [
    {
     "data": {
      "text/html": [
       "<div>\n",
       "<style scoped>\n",
       "    .dataframe tbody tr th:only-of-type {\n",
       "        vertical-align: middle;\n",
       "    }\n",
       "\n",
       "    .dataframe tbody tr th {\n",
       "        vertical-align: top;\n",
       "    }\n",
       "\n",
       "    .dataframe thead th {\n",
       "        text-align: right;\n",
       "    }\n",
       "</style>\n",
       "<table border=\"1\" class=\"dataframe\">\n",
       "  <thead>\n",
       "    <tr style=\"text-align: right;\">\n",
       "      <th></th>\n",
       "      <th>score</th>\n",
       "    </tr>\n",
       "  </thead>\n",
       "  <tbody>\n",
       "    <tr>\n",
       "      <th>Linear Regression</th>\n",
       "      <td>0.353979</td>\n",
       "    </tr>\n",
       "    <tr>\n",
       "      <th>K-Nearest Neighbors Regression</th>\n",
       "      <td>0.440829</td>\n",
       "    </tr>\n",
       "    <tr>\n",
       "      <th>Support-Vector Regression</th>\n",
       "      <td>0.438738</td>\n",
       "    </tr>\n",
       "    <tr>\n",
       "      <th>Decision Tree Regression</th>\n",
       "      <td>0.406885</td>\n",
       "    </tr>\n",
       "    <tr>\n",
       "      <th>Random Forest Regression</th>\n",
       "      <td>0.593445</td>\n",
       "    </tr>\n",
       "  </tbody>\n",
       "</table>\n",
       "</div>"
      ],
      "text/plain": [
       "                                   score\n",
       "Linear Regression               0.353979\n",
       "K-Nearest Neighbors Regression  0.440829\n",
       "Support-Vector Regression       0.438738\n",
       "Decision Tree Regression        0.406885\n",
       "Random Forest Regression        0.593445"
      ]
     },
     "execution_count": 8,
     "metadata": {},
     "output_type": "execute_result"
    }
   ],
   "source": [
    "model_list = [\"Linear Regression\", \"K-Nearest Neighbors Regression\", \"Support-Vector Regression\",\n",
    "              \"Decision Tree Regression\", \"Random Forest Regression\"]\n",
    "conclusion = pd.DataFrame(result, index = [model_list], columns = [\"score\"])\n",
    "conclusion"
   ]
  },
  {
   "cell_type": "markdown",
   "metadata": {},
   "source": [
    "Unlike the previous classification, the score of prediction models is quite low. They are in range from 0.35 to nearly 0.6. Model with the lowest score is Linear Regression as expected and again, random forest regression has the highest score when predicting the IMDB of a movie. This project is an extension of the previous IMDB classification and it is more complex one. However, it is still simple because none of the model can reach the score of 0.7 as our expectation. Further projects should implement other method such as tuning hyperparameter or developing more complex model in order to have more accuracy result."
   ]
  }
 ],
 "metadata": {
  "kernelspec": {
   "display_name": "Python 3",
   "language": "python",
   "name": "python3"
  },
  "language_info": {
   "codemirror_mode": {
    "name": "ipython",
    "version": 3
   },
   "file_extension": ".py",
   "mimetype": "text/x-python",
   "name": "python",
   "nbconvert_exporter": "python",
   "pygments_lexer": "ipython3",
   "version": "3.7.6"
  }
 },
 "nbformat": 4,
 "nbformat_minor": 4
}
