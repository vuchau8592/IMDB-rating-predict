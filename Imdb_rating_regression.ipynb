{
 "cells": [
  {
   "cell_type": "code",
   "execution_count": 1,
   "metadata": {},
   "outputs": [
    {
     "data": {
      "text/plain": [
       "16"
      ]
     },
     "execution_count": 1,
     "metadata": {},
     "output_type": "execute_result"
    }
   ],
   "source": [
    "import pandas as pd\n",
    "import re\n",
    "import numpy as np\n",
    "from sklearn.preprocessing import StandardScaler\n",
    "from sklearn.preprocessing import MinMaxScaler\n",
    "from sklearn.neighbors import KNeighborsClassifier\n",
    "from sklearn.model_selection import train_test_split\n",
    "import matplotlib.pyplot as plt\n",
    "from collections import Counter\n",
    "import seaborn as sns\n",
    "\n",
    "data = pd.read_csv(\"D:/Code/imdb_project/movie_metadata.csv\")\n",
    "data = data.dropna()\n",
    "data.drop_duplicates(keep='first', inplace = True)\n",
    "data[\"country\"] = data[\"country\"].replace({\"USA\": 1, \"UK\": 2})\n",
    "data[\"country\"] = data[\"country\"].apply(lambda x: 0 if x != 1 and x != 2 else x)\n",
    "data = data.drop([\"color\",\"director_name\",\"actor_2_name\", \"genres\", \"actor_1_name\",\"movie_title\",\"content_rating\",\"language\",\n",
    "                 \"plot_keywords\", \"movie_imdb_link\",\"actor_3_name\",\"aspect_ratio\"], axis = 1)\n",
    "zcount = {}\n",
    "for column in data.columns:\n",
    "    zcount[column] = (Counter(sorted(data[column]))[0])\n",
    "zcount.pop('country')\n",
    "temp = []\n",
    "for key in zcount.keys():\n",
    "    if zcount[key] != 0:\n",
    "        temp.append(key)\n",
    "for col in temp:\n",
    "    data[col] = data[col].replace({0.0:data[col].mean()})\n",
    "len(data.columns)"
   ]
  },
  {
   "cell_type": "code",
   "execution_count": null,
   "metadata": {},
   "outputs": [],
   "source": [
    "corr = data.corr()\n",
    "ax = sns.heatmap(\n",
    "    corr, \n",
    "    vmin=-1, vmax=1, center=0,\n",
    "    cmap=sns.diverging_palette(20, 220, n=200),\n",
    "    square=True\n",
    ")\n",
    "ax.set_xticklabels(\n",
    "    ax.get_xticklabels(),\n",
    "    rotation=45,\n",
    "    horizontalalignment='right'\n",
    ");"
   ]
  },
  {
   "cell_type": "code",
   "execution_count": 2,
   "metadata": {},
   "outputs": [
    {
     "data": {
      "text/plain": [
       "13"
      ]
     },
     "execution_count": 2,
     "metadata": {},
     "output_type": "execute_result"
    }
   ],
   "source": [
    "data[\"other_actor_facebook_likes\"] = data[\"actor_3_facebook_likes\"] + data[\"actor_2_facebook_likes\"]\n",
    "data[\"review_ratio\"] = data[\"num_critic_for_reviews\"] / data[\"num_user_for_reviews\"]\n",
    "data = data.drop([\"cast_total_facebook_likes\",\"actor_3_facebook_likes\",\n",
    "                  \"actor_2_facebook_likes\",\"num_critic_for_reviews\",\"num_user_for_reviews\"], axis = 1)\n",
    "len(data.columns)"
   ]
  },
  {
   "cell_type": "code",
   "execution_count": null,
   "metadata": {},
   "outputs": [],
   "source": [
    "corr = data.corr()\n",
    "ax = sns.heatmap(\n",
    "    corr, \n",
    "    vmin=-1, vmax=1, center=0,\n",
    "    cmap=sns.diverging_palette(20, 220, n=200),\n",
    "    square=True\n",
    ")\n",
    "ax.set_xticklabels(\n",
    "    ax.get_xticklabels(),\n",
    "    rotation=45,\n",
    "    horizontalalignment='right'\n",
    ");"
   ]
  },
  {
   "cell_type": "code",
   "execution_count": 5,
   "metadata": {},
   "outputs": [
    {
     "data": {
      "text/plain": [
       "13"
      ]
     },
     "execution_count": 5,
     "metadata": {},
     "output_type": "execute_result"
    }
   ],
   "source": [
    "data.columns\n",
    "df = data[['title_year','country','duration', 'budget','gross',\n",
    "          'review_ratio','num_voted_users','facenumber_in_poster','movie_facebook_likes',\n",
    "          'director_facebook_likes','actor_1_facebook_likes','other_actor_facebook_likes',\n",
    "          'imdb_score']]\n",
    "len(df.columns)"
   ]
  },
  {
   "cell_type": "code",
   "execution_count": 12,
   "metadata": {},
   "outputs": [],
   "source": [
    "feature = df.iloc[:,:len(df.columns)-1].values\n",
    "rating = df[\"imdb_score\"].values\n",
    "\n",
    "scaler = MinMaxScaler()\n",
    "X = scaler.fit_transform(feature)\n",
    "y = rating\n",
    "x_train, x_test, y_train, y_test = train_test_split(X, y, train_size = 0.8, test_size = 0.2, random_state = 5)"
   ]
  },
  {
   "cell_type": "code",
   "execution_count": 13,
   "metadata": {},
   "outputs": [
    {
     "data": {
      "text/plain": [
       "0.3426276045545813"
      ]
     },
     "execution_count": 13,
     "metadata": {},
     "output_type": "execute_result"
    }
   ],
   "source": [
    "from sklearn.linear_model import LinearRegression\n",
    "\n",
    "regressor = LinearRegression()\n",
    "regressor.fit(x_train, y_train)\n",
    "regressor.score(x_test, y_test)"
   ]
  },
  {
   "cell_type": "code",
   "execution_count": 14,
   "metadata": {},
   "outputs": [
    {
     "data": {
      "image/png": "[encoded data removed]",
      "text/plain": [
       "<Figure size 432x288 with 1 Axes>"
      ]
     },
     "metadata": {
      "needs_background": "light"
     },
     "output_type": "display_data"
    },
    {
     "name": "stdout",
     "output_type": "stream",
     "text": [
      "k = 22 with 0.42348390040840017\n"
     ]
    }
   ],
   "source": [
    "from sklearn.neighbors import KNeighborsRegressor\n",
    "score = []\n",
    "for k in range(1,300):\n",
    "    classifier = KNeighborsRegressor(n_neighbors = k, weights = \"distance\")\n",
    "    classifier.fit(x_train, y_train)\n",
    "    score.append(classifier.score(x_test, y_test))\n",
    "plt.plot(range(1,300),score)\n",
    "plt.show()\n",
    "print(f'k = {score.index(max(score))} with {max(score)}')"
   ]
  },
  {
   "cell_type": "code",
   "execution_count": 19,
   "metadata": {},
   "outputs": [
    {
     "data": {
      "text/plain": [
       "0.4032141074795016"
      ]
     },
     "execution_count": 19,
     "metadata": {},
     "output_type": "execute_result"
    }
   ],
   "source": [
    "from sklearn.svm import SVR\n",
    "from sklearn.model_selection import GridSearchCV\n",
    "\n",
    "parameters = {\"kernel\":('linear', 'poly', 'rbf', 'sigmoid')}\n",
    "regressor = SVR()\n",
    "classifier = GridSearchCV(regressor, parameters)\n",
    "classifier.fit(x_train, y_train)\n",
    "regressor = SVR()\n",
    "regressor.fit(x_train, y_train)\n",
    "regressor.score(x_test, y_test)"
   ]
  },
  {
   "cell_type": "code",
   "execution_count": 20,
   "metadata": {},
   "outputs": [
    {
     "data": {
      "image/png": "[encoded data removed]",
      "text/plain": [
       "<Figure size 432x288 with 1 Axes>"
      ]
     },
     "metadata": {
      "needs_background": "light"
     },
     "output_type": "display_data"
    },
    {
     "name": "stdout",
     "output_type": "stream",
     "text": [
      "max_depth = 5 with 0.3599229708197256\n"
     ]
    }
   ],
   "source": [
    "from sklearn.tree import DecisionTreeRegressor\n",
    "n = 30\n",
    "score = []\n",
    "for i in range(1,n):\n",
    "    regressor = DecisionTreeRegressor(criterion='mae', max_depth = i)\n",
    "    regressor.fit(x_train, y_train)\n",
    "    score.append(regressor.score(x_test, y_test))\n",
    "plt.plot(range(1,n),score)\n",
    "plt.show()\n",
    "print(f'max_depth = {score.index(max(score))} with {max(score)}')"
   ]
  },
  {
   "cell_type": "code",
   "execution_count": 21,
   "metadata": {},
   "outputs": [
    {
     "data": {
      "image/png": "[encoded data removed]",
      "text/plain": [
       "<Figure size 432x288 with 1 Axes>"
      ]
     },
     "metadata": {
      "needs_background": "light"
     },
     "output_type": "display_data"
    },
    {
     "name": "stdout",
     "output_type": "stream",
     "text": [
      "max_depth = 13 with 0.5320856482299967\n"
     ]
    }
   ],
   "source": [
    "from sklearn.ensemble import RandomForestRegressor\n",
    "n = 30\n",
    "score = []\n",
    "for i in range(1,n):\n",
    "    regressor = RandomForestRegressor(max_depth = i)    \n",
    "    regressor.fit(x_train, y_train)\n",
    "    score.append(regressor.score(x_test, y_test))\n",
    "    \n",
    "plt.plot(range(1,n),score)\n",
    "plt.show()\n",
    "print(f'max_depth = {score.index(max(score))} with {max(score)}')"
   ]
  }
 ],
 "metadata": {
  "kernelspec": {
   "display_name": "Python 3",
   "language": "python",
   "name": "python3"
  },
  "language_info": {
   "codemirror_mode": {
    "name": "ipython",
    "version": 3
   },
   "file_extension": ".py",
   "mimetype": "text/x-python",
   "name": "python",
   "nbconvert_exporter": "python",
   "pygments_lexer": "ipython3",
   "version": "3.7.6"
  }
 },
 "nbformat": 4,
 "nbformat_minor": 4
}
